{
 "cells": [
  {
   "cell_type": "markdown",
   "metadata": {},
   "source": [
    "# LFD Homework 3\n",
    "\n",
    "Third week homework for the \"Learning from Data\" course offerd by [Caltech on edX](https://courses.edx.org/courses/course-v1:CaltechX+CS1156x+3T2017). This notebook contains only problems that require programming / simulation."
   ]
  },
  {
   "cell_type": "code",
   "execution_count": 1,
   "metadata": {
    "collapsed": true
   },
   "outputs": [],
   "source": [
    "import numpy as np\n",
    "import matplotlib.pyplot as plt\n",
    "from itertools import chain\n",
    "\n",
    "%matplotlib notebook"
   ]
  },
  {
   "cell_type": "markdown",
   "metadata": {},
   "source": [
    "## Generalization Error (1. - 3.)\n",
    "\n",
    "The modified *Hoeffding Inequality* provides a way to characterize the generalization error with a probabilistic bound\n",
    "\n",
    "$$\n",
    "\\mathbb{P}\\left[\\left|E_{\\mathrm{in}}(g) - E_{\\mathrm{out}}(g)\\right| > \\epsilon\\right] \\leq 2 M \\mathrm{e}^{-2\\epsilon^2N}\n",
    "$$\n",
    "\n",
    "for any $\\epsilon > 0$. If we set $\\epsilon = 0.05$ and want the probability bound $2 M \\mathrm{e}^{-2\\epsilon^2N}$ to be at most $0.03$, what is the least number of examples $N$ (among the given choices) needed for the following cases\n",
    "\n",
    " 1. $M = 1$\n",
    " 1. $M = 10$\n",
    " 1. $M = 100$\n",
    "\n",
    "Let the maximum acceptable probability bound be $p$. Then the least number of examples can be obtained by solving the following inequality for $N$\n",
    "\n",
    "$$\n",
    "\\begin{array}{rl}\n",
    "& 2 M \\mathrm{e}^{-2\\epsilon^2N} \\leq p \\\\\n",
    "\\Leftrightarrow & \\log(2M) - 2\\epsilon^2N \\leq \\log(p) \\\\\n",
    "\\Leftrightarrow & \\log(2M) - \\log(p) \\leq 2\\epsilon^2N \\\\\n",
    "\\Leftrightarrow & \\frac{\\log(2Mp^{-1})}{2\\epsilon^2} \\leq N\n",
    "\\end{array}\n",
    "$$\n",
    "\n",
    "Now we can compute this lower bound for $N$ over the values for $M$ given in the problem description:"
   ]
  },
  {
   "cell_type": "code",
   "execution_count": 11,
   "metadata": {},
   "outputs": [
    {
     "name": "stdout",
     "output_type": "stream",
     "text": [
      "M=1\t840.0\t <= N\n",
      "M=10\t1301.0\t <= N\n",
      "M=100\t1761.0\t <= N\n",
      "\n"
     ]
    }
   ],
   "source": [
    "f = lambda p,M,epsilon: np.log(2 * M / p) / (2 * epsilon**2)\n",
    "M = np.array([1, 10, 100])\n",
    "p = .03\n",
    "epsilon = .05\n",
    "\n",
    "print(('M={}\\t{}\\t <= N\\n'*3).format(*chain.from_iterable(zip(M, np.ceil(f(p, M, epsilon))))))"
   ]
  },
  {
   "cell_type": "code",
   "execution_count": 9,
   "metadata": {},
   "outputs": [
    {
     "data": {
      "text/plain": [
       "-0.69314718055994529"
      ]
     },
     "execution_count": 9,
     "metadata": {},
     "output_type": "execute_result"
    }
   ],
   "source": [
    "epsilon = 1/np.sqrt(2) - 10e-4\n",
    "np.log(0.5)"
   ]
  }
 ],
 "metadata": {
  "kernelspec": {
   "display_name": "Python 3",
   "language": "python",
   "name": "python3"
  },
  "language_info": {
   "codemirror_mode": {
    "name": "ipython",
    "version": 3
   },
   "file_extension": ".py",
   "mimetype": "text/x-python",
   "name": "python",
   "nbconvert_exporter": "python",
   "pygments_lexer": "ipython3",
   "version": "3.6.2"
  }
 },
 "nbformat": 4,
 "nbformat_minor": 2
}
